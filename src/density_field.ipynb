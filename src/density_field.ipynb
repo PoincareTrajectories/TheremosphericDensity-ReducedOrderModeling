{
 "cells": [
  {
   "cell_type": "code",
   "execution_count": 104,
   "id": "267e659e-bc7f-4cb4-bc8b-52b447732d39",
   "metadata": {},
   "outputs": [],
   "source": [
    "import pandas as pd\n",
    "import numpy as np"
   ]
  },
  {
   "cell_type": "code",
   "execution_count": 105,
   "id": "b35f29d2-33f3-4e36-b140-7c85ad9839e2",
   "metadata": {},
   "outputs": [],
   "source": [
    "df = pd.read_csv('2013_HASDM_500-575KM.txt', delim_whitespace=True, header=None)"
   ]
  },
  {
   "cell_type": "code",
   "execution_count": 259,
   "id": "76ddb3c4-0c36-48ed-86aa-c83bf8646851",
   "metadata": {},
   "outputs": [
    {
     "data": {
      "text/html": [
       "<div>\n",
       "<style scoped>\n",
       "    .dataframe tbody tr th:only-of-type {\n",
       "        vertical-align: middle;\n",
       "    }\n",
       "\n",
       "    .dataframe tbody tr th {\n",
       "        vertical-align: top;\n",
       "    }\n",
       "\n",
       "    .dataframe thead th {\n",
       "        text-align: right;\n",
       "    }\n",
       "</style>\n",
       "<table border=\"1\" class=\"dataframe\">\n",
       "  <thead>\n",
       "    <tr style=\"text-align: right;\">\n",
       "      <th></th>\n",
       "      <th>0</th>\n",
       "      <th>1</th>\n",
       "      <th>2</th>\n",
       "      <th>3</th>\n",
       "      <th>4</th>\n",
       "      <th>5</th>\n",
       "      <th>6</th>\n",
       "      <th>7</th>\n",
       "      <th>8</th>\n",
       "      <th>9</th>\n",
       "      <th>10</th>\n",
       "    </tr>\n",
       "  </thead>\n",
       "  <tbody>\n",
       "    <tr>\n",
       "      <th>0</th>\n",
       "      <td>2013</td>\n",
       "      <td>1</td>\n",
       "      <td>0</td>\n",
       "      <td>0</td>\n",
       "      <td>0.0</td>\n",
       "      <td>23012.000</td>\n",
       "      <td>500.0</td>\n",
       "      <td>0.0</td>\n",
       "      <td>-90.0</td>\n",
       "      <td>0.86</td>\n",
       "      <td>4.727000e-13</td>\n",
       "    </tr>\n",
       "    <tr>\n",
       "      <th>1</th>\n",
       "      <td>2013</td>\n",
       "      <td>1</td>\n",
       "      <td>0</td>\n",
       "      <td>0</td>\n",
       "      <td>0.0</td>\n",
       "      <td>23012.000</td>\n",
       "      <td>500.0</td>\n",
       "      <td>0.0</td>\n",
       "      <td>-80.0</td>\n",
       "      <td>0.86</td>\n",
       "      <td>4.058000e-13</td>\n",
       "    </tr>\n",
       "    <tr>\n",
       "      <th>2</th>\n",
       "      <td>2013</td>\n",
       "      <td>1</td>\n",
       "      <td>0</td>\n",
       "      <td>0</td>\n",
       "      <td>0.0</td>\n",
       "      <td>23012.000</td>\n",
       "      <td>500.0</td>\n",
       "      <td>0.0</td>\n",
       "      <td>-70.0</td>\n",
       "      <td>0.86</td>\n",
       "      <td>3.435000e-13</td>\n",
       "    </tr>\n",
       "    <tr>\n",
       "      <th>3</th>\n",
       "      <td>2013</td>\n",
       "      <td>1</td>\n",
       "      <td>0</td>\n",
       "      <td>0</td>\n",
       "      <td>0.0</td>\n",
       "      <td>23012.000</td>\n",
       "      <td>500.0</td>\n",
       "      <td>0.0</td>\n",
       "      <td>-60.0</td>\n",
       "      <td>0.86</td>\n",
       "      <td>2.887000e-13</td>\n",
       "    </tr>\n",
       "    <tr>\n",
       "      <th>4</th>\n",
       "      <td>2013</td>\n",
       "      <td>1</td>\n",
       "      <td>0</td>\n",
       "      <td>0</td>\n",
       "      <td>0.0</td>\n",
       "      <td>23012.000</td>\n",
       "      <td>500.0</td>\n",
       "      <td>0.0</td>\n",
       "      <td>-50.0</td>\n",
       "      <td>0.86</td>\n",
       "      <td>2.431000e-13</td>\n",
       "    </tr>\n",
       "    <tr>\n",
       "      <th>...</th>\n",
       "      <td>...</td>\n",
       "      <td>...</td>\n",
       "      <td>...</td>\n",
       "      <td>...</td>\n",
       "      <td>...</td>\n",
       "      <td>...</td>\n",
       "      <td>...</td>\n",
       "      <td>...</td>\n",
       "      <td>...</td>\n",
       "      <td>...</td>\n",
       "      <td>...</td>\n",
       "    </tr>\n",
       "    <tr>\n",
       "      <th>5326075</th>\n",
       "      <td>2013</td>\n",
       "      <td>365</td>\n",
       "      <td>21</td>\n",
       "      <td>0</td>\n",
       "      <td>0.0</td>\n",
       "      <td>23376.875</td>\n",
       "      <td>575.0</td>\n",
       "      <td>23.0</td>\n",
       "      <td>50.0</td>\n",
       "      <td>30.81</td>\n",
       "      <td>1.033000e-13</td>\n",
       "    </tr>\n",
       "    <tr>\n",
       "      <th>5326076</th>\n",
       "      <td>2013</td>\n",
       "      <td>365</td>\n",
       "      <td>21</td>\n",
       "      <td>0</td>\n",
       "      <td>0.0</td>\n",
       "      <td>23376.875</td>\n",
       "      <td>575.0</td>\n",
       "      <td>23.0</td>\n",
       "      <td>60.0</td>\n",
       "      <td>30.81</td>\n",
       "      <td>1.056000e-13</td>\n",
       "    </tr>\n",
       "    <tr>\n",
       "      <th>5326077</th>\n",
       "      <td>2013</td>\n",
       "      <td>365</td>\n",
       "      <td>21</td>\n",
       "      <td>0</td>\n",
       "      <td>0.0</td>\n",
       "      <td>23376.875</td>\n",
       "      <td>575.0</td>\n",
       "      <td>23.0</td>\n",
       "      <td>70.0</td>\n",
       "      <td>30.81</td>\n",
       "      <td>1.098000e-13</td>\n",
       "    </tr>\n",
       "    <tr>\n",
       "      <th>5326078</th>\n",
       "      <td>2013</td>\n",
       "      <td>365</td>\n",
       "      <td>21</td>\n",
       "      <td>0</td>\n",
       "      <td>0.0</td>\n",
       "      <td>23376.875</td>\n",
       "      <td>575.0</td>\n",
       "      <td>23.0</td>\n",
       "      <td>80.0</td>\n",
       "      <td>30.81</td>\n",
       "      <td>1.164000e-13</td>\n",
       "    </tr>\n",
       "    <tr>\n",
       "      <th>5326079</th>\n",
       "      <td>2013</td>\n",
       "      <td>365</td>\n",
       "      <td>21</td>\n",
       "      <td>0</td>\n",
       "      <td>0.0</td>\n",
       "      <td>23376.875</td>\n",
       "      <td>575.0</td>\n",
       "      <td>23.0</td>\n",
       "      <td>90.0</td>\n",
       "      <td>30.81</td>\n",
       "      <td>1.259000e-13</td>\n",
       "    </tr>\n",
       "  </tbody>\n",
       "</table>\n",
       "<p>5326080 rows × 11 columns</p>\n",
       "</div>"
      ],
      "text/plain": [
       "           0    1   2   3    4          5      6     7     8      9   \\\n",
       "0        2013    1   0   0  0.0  23012.000  500.0   0.0 -90.0   0.86   \n",
       "1        2013    1   0   0  0.0  23012.000  500.0   0.0 -80.0   0.86   \n",
       "2        2013    1   0   0  0.0  23012.000  500.0   0.0 -70.0   0.86   \n",
       "3        2013    1   0   0  0.0  23012.000  500.0   0.0 -60.0   0.86   \n",
       "4        2013    1   0   0  0.0  23012.000  500.0   0.0 -50.0   0.86   \n",
       "...       ...  ...  ..  ..  ...        ...    ...   ...   ...    ...   \n",
       "5326075  2013  365  21   0  0.0  23376.875  575.0  23.0  50.0  30.81   \n",
       "5326076  2013  365  21   0  0.0  23376.875  575.0  23.0  60.0  30.81   \n",
       "5326077  2013  365  21   0  0.0  23376.875  575.0  23.0  70.0  30.81   \n",
       "5326078  2013  365  21   0  0.0  23376.875  575.0  23.0  80.0  30.81   \n",
       "5326079  2013  365  21   0  0.0  23376.875  575.0  23.0  90.0  30.81   \n",
       "\n",
       "                   10  \n",
       "0        4.727000e-13  \n",
       "1        4.058000e-13  \n",
       "2        3.435000e-13  \n",
       "3        2.887000e-13  \n",
       "4        2.431000e-13  \n",
       "...               ...  \n",
       "5326075  1.033000e-13  \n",
       "5326076  1.056000e-13  \n",
       "5326077  1.098000e-13  \n",
       "5326078  1.164000e-13  \n",
       "5326079  1.259000e-13  \n",
       "\n",
       "[5326080 rows x 11 columns]"
      ]
     },
     "execution_count": 260,
     "metadata": {},
     "output_type": "execute_result"
    }
   ],
   "source": [
    "df"
   ]
  },
  {
   "cell_type": "code",
   "execution_count": 273,
   "id": "a22c788e-78a9-4d76-a12f-a377bb847b62",
   "metadata": {},
   "outputs": [
    {
     "name": "stderr",
     "output_type": "stream",
     "text": [
      "/tmp/ipykernel_14740/1263151393.py:1: UserWarning: Boolean Series key will be reindexed to match DataFrame index.\n",
      "  df[df[0] == 2013][df[1] == 1][df[6] == 500][df[2] == 0][[8, 9, 10]]\n"
     ]
    },
    {
     "data": {
      "text/html": [
       "<div>\n",
       "<style scoped>\n",
       "    .dataframe tbody tr th:only-of-type {\n",
       "        vertical-align: middle;\n",
       "    }\n",
       "\n",
       "    .dataframe tbody tr th {\n",
       "        vertical-align: top;\n",
       "    }\n",
       "\n",
       "    .dataframe thead th {\n",
       "        text-align: right;\n",
       "    }\n",
       "</style>\n",
       "<table border=\"1\" class=\"dataframe\">\n",
       "  <thead>\n",
       "    <tr style=\"text-align: right;\">\n",
       "      <th></th>\n",
       "      <th>8</th>\n",
       "      <th>9</th>\n",
       "      <th>10</th>\n",
       "    </tr>\n",
       "  </thead>\n",
       "  <tbody>\n",
       "    <tr>\n",
       "      <th>0</th>\n",
       "      <td>-90.0</td>\n",
       "      <td>0.86</td>\n",
       "      <td>4.727000e-13</td>\n",
       "    </tr>\n",
       "    <tr>\n",
       "      <th>1</th>\n",
       "      <td>-80.0</td>\n",
       "      <td>0.86</td>\n",
       "      <td>4.058000e-13</td>\n",
       "    </tr>\n",
       "    <tr>\n",
       "      <th>2</th>\n",
       "      <td>-70.0</td>\n",
       "      <td>0.86</td>\n",
       "      <td>3.435000e-13</td>\n",
       "    </tr>\n",
       "    <tr>\n",
       "      <th>3</th>\n",
       "      <td>-60.0</td>\n",
       "      <td>0.86</td>\n",
       "      <td>2.887000e-13</td>\n",
       "    </tr>\n",
       "    <tr>\n",
       "      <th>4</th>\n",
       "      <td>-50.0</td>\n",
       "      <td>0.86</td>\n",
       "      <td>2.431000e-13</td>\n",
       "    </tr>\n",
       "    <tr>\n",
       "      <th>...</th>\n",
       "      <td>...</td>\n",
       "      <td>...</td>\n",
       "      <td>...</td>\n",
       "    </tr>\n",
       "    <tr>\n",
       "      <th>451</th>\n",
       "      <td>50.0</td>\n",
       "      <td>345.86</td>\n",
       "      <td>1.457000e-13</td>\n",
       "    </tr>\n",
       "    <tr>\n",
       "      <th>452</th>\n",
       "      <td>60.0</td>\n",
       "      <td>345.86</td>\n",
       "      <td>1.496000e-13</td>\n",
       "    </tr>\n",
       "    <tr>\n",
       "      <th>453</th>\n",
       "      <td>70.0</td>\n",
       "      <td>345.86</td>\n",
       "      <td>1.568000e-13</td>\n",
       "    </tr>\n",
       "    <tr>\n",
       "      <th>454</th>\n",
       "      <td>80.0</td>\n",
       "      <td>345.86</td>\n",
       "      <td>1.677000e-13</td>\n",
       "    </tr>\n",
       "    <tr>\n",
       "      <th>455</th>\n",
       "      <td>90.0</td>\n",
       "      <td>345.86</td>\n",
       "      <td>1.829000e-13</td>\n",
       "    </tr>\n",
       "  </tbody>\n",
       "</table>\n",
       "<p>456 rows × 3 columns</p>\n",
       "</div>"
      ],
      "text/plain": [
       "       8       9             10\n",
       "0   -90.0    0.86  4.727000e-13\n",
       "1   -80.0    0.86  4.058000e-13\n",
       "2   -70.0    0.86  3.435000e-13\n",
       "3   -60.0    0.86  2.887000e-13\n",
       "4   -50.0    0.86  2.431000e-13\n",
       "..    ...     ...           ...\n",
       "451  50.0  345.86  1.457000e-13\n",
       "452  60.0  345.86  1.496000e-13\n",
       "453  70.0  345.86  1.568000e-13\n",
       "454  80.0  345.86  1.677000e-13\n",
       "455  90.0  345.86  1.829000e-13\n",
       "\n",
       "[456 rows x 3 columns]"
      ]
     },
     "execution_count": 273,
     "metadata": {},
     "output_type": "execute_result"
    }
   ],
   "source": [
    "df[df[0] == 2013][df[1] == 1][df[6] == 500][df[2] == 0][[8, 9, 10]]"
   ]
  },
  {
   "cell_type": "code",
   "execution_count": 274,
   "id": "44c53f3d-d3c7-46a2-9f93-8dd2e8ede03b",
   "metadata": {},
   "outputs": [
    {
     "name": "stderr",
     "output_type": "stream",
     "text": [
      "/tmp/ipykernel_14740/1371304286.py:1: UserWarning: Boolean Series key will be reindexed to match DataFrame index.\n",
      "  df_1 = df[df[0] == 2013][df[1] == 1][df[6] == 500][df[2] == 0][[8, 9, 10]]\n"
     ]
    }
   ],
   "source": [
    "df_1 = df[df[0] == 2013][df[1] == 1][df[6] == 500][df[2] == 0][[8, 9, 10]]"
   ]
  },
  {
   "cell_type": "code",
   "execution_count": 275,
   "id": "a7a440ca-c35e-40e2-87f7-4b4f9467ed23",
   "metadata": {},
   "outputs": [],
   "source": [
    "df_1 = df_1.sort_values(by=[8, 9])"
   ]
  },
  {
   "cell_type": "code",
   "execution_count": 276,
   "id": "7a6bd3c5-86fc-4bcb-820d-8c431e0e2900",
   "metadata": {},
   "outputs": [
    {
     "data": {
      "text/html": [
       "<div>\n",
       "<style scoped>\n",
       "    .dataframe tbody tr th:only-of-type {\n",
       "        vertical-align: middle;\n",
       "    }\n",
       "\n",
       "    .dataframe tbody tr th {\n",
       "        vertical-align: top;\n",
       "    }\n",
       "\n",
       "    .dataframe thead th {\n",
       "        text-align: right;\n",
       "    }\n",
       "</style>\n",
       "<table border=\"1\" class=\"dataframe\">\n",
       "  <thead>\n",
       "    <tr style=\"text-align: right;\">\n",
       "      <th></th>\n",
       "      <th>8</th>\n",
       "      <th>9</th>\n",
       "      <th>10</th>\n",
       "    </tr>\n",
       "  </thead>\n",
       "  <tbody>\n",
       "    <tr>\n",
       "      <th>0</th>\n",
       "      <td>-90.0</td>\n",
       "      <td>0.86</td>\n",
       "      <td>4.727000e-13</td>\n",
       "    </tr>\n",
       "    <tr>\n",
       "      <th>19</th>\n",
       "      <td>-90.0</td>\n",
       "      <td>15.86</td>\n",
       "      <td>4.727000e-13</td>\n",
       "    </tr>\n",
       "    <tr>\n",
       "      <th>38</th>\n",
       "      <td>-90.0</td>\n",
       "      <td>30.86</td>\n",
       "      <td>4.727000e-13</td>\n",
       "    </tr>\n",
       "    <tr>\n",
       "      <th>57</th>\n",
       "      <td>-90.0</td>\n",
       "      <td>45.86</td>\n",
       "      <td>4.727000e-13</td>\n",
       "    </tr>\n",
       "    <tr>\n",
       "      <th>76</th>\n",
       "      <td>-90.0</td>\n",
       "      <td>60.86</td>\n",
       "      <td>4.727000e-13</td>\n",
       "    </tr>\n",
       "    <tr>\n",
       "      <th>...</th>\n",
       "      <td>...</td>\n",
       "      <td>...</td>\n",
       "      <td>...</td>\n",
       "    </tr>\n",
       "    <tr>\n",
       "      <th>379</th>\n",
       "      <td>90.0</td>\n",
       "      <td>285.86</td>\n",
       "      <td>1.829000e-13</td>\n",
       "    </tr>\n",
       "    <tr>\n",
       "      <th>398</th>\n",
       "      <td>90.0</td>\n",
       "      <td>300.86</td>\n",
       "      <td>1.829000e-13</td>\n",
       "    </tr>\n",
       "    <tr>\n",
       "      <th>417</th>\n",
       "      <td>90.0</td>\n",
       "      <td>315.86</td>\n",
       "      <td>1.829000e-13</td>\n",
       "    </tr>\n",
       "    <tr>\n",
       "      <th>436</th>\n",
       "      <td>90.0</td>\n",
       "      <td>330.86</td>\n",
       "      <td>1.829000e-13</td>\n",
       "    </tr>\n",
       "    <tr>\n",
       "      <th>455</th>\n",
       "      <td>90.0</td>\n",
       "      <td>345.86</td>\n",
       "      <td>1.829000e-13</td>\n",
       "    </tr>\n",
       "  </tbody>\n",
       "</table>\n",
       "<p>456 rows × 3 columns</p>\n",
       "</div>"
      ],
      "text/plain": [
       "       8       9             10\n",
       "0   -90.0    0.86  4.727000e-13\n",
       "19  -90.0   15.86  4.727000e-13\n",
       "38  -90.0   30.86  4.727000e-13\n",
       "57  -90.0   45.86  4.727000e-13\n",
       "76  -90.0   60.86  4.727000e-13\n",
       "..    ...     ...           ...\n",
       "379  90.0  285.86  1.829000e-13\n",
       "398  90.0  300.86  1.829000e-13\n",
       "417  90.0  315.86  1.829000e-13\n",
       "436  90.0  330.86  1.829000e-13\n",
       "455  90.0  345.86  1.829000e-13\n",
       "\n",
       "[456 rows x 3 columns]"
      ]
     },
     "execution_count": 276,
     "metadata": {},
     "output_type": "execute_result"
    }
   ],
   "source": [
    "df_1"
   ]
  },
  {
   "cell_type": "code",
   "execution_count": 277,
   "id": "4c9e2885-2bb9-4a81-aacc-adcefcd0b237",
   "metadata": {},
   "outputs": [],
   "source": [
    "theta = df_1[8].unique()"
   ]
  },
  {
   "cell_type": "code",
   "execution_count": 278,
   "id": "48a123c9-740b-4ab8-8a30-f51538b22ab9",
   "metadata": {},
   "outputs": [
    {
     "data": {
      "text/plain": [
       "array([-90., -80., -70., -60., -50., -40., -30., -20., -10.,   0.,  10.,\n",
       "        20.,  30.,  40.,  50.,  60.,  70.,  80.,  90.])"
      ]
     },
     "execution_count": 278,
     "metadata": {},
     "output_type": "execute_result"
    }
   ],
   "source": [
    "theta"
   ]
  },
  {
   "cell_type": "code",
   "execution_count": 279,
   "id": "5cff1301-cfea-429e-afe8-b48e2d646995",
   "metadata": {},
   "outputs": [],
   "source": [
    "phi = df_1[9].unique()"
   ]
  },
  {
   "cell_type": "code",
   "execution_count": 280,
   "id": "b6f572f5-7367-4244-a8de-7ce2004f2e30",
   "metadata": {},
   "outputs": [
    {
     "data": {
      "text/plain": [
       "array([  0.86,  15.86,  30.86,  45.86,  60.86,  75.86,  90.86, 105.86,\n",
       "       120.86, 135.86, 150.86, 165.86, 180.86, 195.86, 210.86, 225.86,\n",
       "       240.86, 255.86, 270.86, 285.86, 300.86, 315.86, 330.86, 345.86])"
      ]
     },
     "execution_count": 280,
     "metadata": {},
     "output_type": "execute_result"
    }
   ],
   "source": [
    "phi"
   ]
  },
  {
   "cell_type": "code",
   "execution_count": 281,
   "id": "5aa63abd-e681-46d5-8b38-19b5ed14833e",
   "metadata": {},
   "outputs": [],
   "source": [
    "rho = np.zeros((len(theta), len(phi)))"
   ]
  },
  {
   "cell_type": "code",
   "execution_count": 282,
   "id": "85c49acb-4ce2-410a-8078-0d29e23f953f",
   "metadata": {},
   "outputs": [
    {
     "name": "stdout",
     "output_type": "stream",
     "text": [
      "0\n",
      "1\n",
      "2\n",
      "3\n",
      "4\n",
      "5\n",
      "6\n",
      "7\n",
      "8\n",
      "9\n",
      "10\n",
      "11\n",
      "12\n",
      "13\n",
      "14\n",
      "15\n",
      "16\n",
      "17\n",
      "18\n"
     ]
    },
    {
     "name": "stderr",
     "output_type": "stream",
     "text": [
      "/tmp/ipykernel_14740/2443851974.py:4: UserWarning: Boolean Series key will be reindexed to match DataFrame index.\n",
      "  rho[i, j] = df_1[df_1[8] == theta[i]][df_1[9] == phi[j]][10]\n"
     ]
    }
   ],
   "source": [
    "for i in range(len(theta)):\n",
    "    print(i)\n",
    "    for j in range(len(phi)):\n",
    "        rho[i, j] = df_1[df_1[8] == theta[i]][df_1[9] == phi[j]][10]"
   ]
  },
  {
   "cell_type": "code",
   "execution_count": 301,
   "id": "2b8d5d78-6201-41f2-ba5f-865678a71405",
   "metadata": {},
   "outputs": [
    {
     "data": {
      "text/plain": [
       "7.733e-13"
      ]
     },
     "execution_count": 301,
     "metadata": {},
     "output_type": "execute_result"
    }
   ],
   "source": [
    "np.max(rho)"
   ]
  },
  {
   "cell_type": "code",
   "execution_count": 303,
   "id": "35c397b4-cba6-4a4d-8bc2-cc439e86e7ef",
   "metadata": {},
   "outputs": [
    {
     "data": {
      "image/png": "[encoded data removed]",
      "text/plain": [
       "<Figure size 432x288 with 2 Axes>"
      ]
     },
     "metadata": {
      "needs_background": "light"
     },
     "output_type": "display_data"
    }
   ],
   "source": [
    "plt.figure()\n",
    "plt.rcParams.update({\"font.size\": 14})\n",
    "plt.xlabel(\"Latitude [deg]\")\n",
    "plt.ylabel(\"Longitude [deg]\")\n",
    "plt.contourf(phi, theta, rho, cmap='inferno', vmin=0, vmax=np.max(rho))\n",
    "plt.colorbar()\n",
    "plt.grid(True)\n",
    "plt.tight_layout()\n",
    "plt.savefig(f\"hasdm.png\")"
   ]
  }
 ],
 "metadata": {
  "kernelspec": {
   "display_name": "Python 3 (ipykernel)",
   "language": "python",
   "name": "python3"
  },
  "language_info": {
   "codemirror_mode": {
    "name": "ipython",
    "version": 3
   },
   "file_extension": ".py",
   "mimetype": "text/x-python",
   "name": "python",
   "nbconvert_exporter": "python",
   "pygments_lexer": "ipython3",
   "version": "3.9.6"
  }
 },
 "nbformat": 4,
 "nbformat_minor": 5
}
